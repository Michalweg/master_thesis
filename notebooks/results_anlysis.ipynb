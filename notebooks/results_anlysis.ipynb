{
 "cells": [
  {
   "cell_type": "code",
   "id": "828f67cc-e8b0-4b91-b50d-d3c389426326",
   "metadata": {
    "ExecuteTime": {
     "end_time": "2025-02-16T20:05:09.230854Z",
     "start_time": "2025-02-16T20:05:08.419292Z"
    }
   },
   "source": [
    "import pandas as pd \n",
    "import json \n",
    "from pathlib import Path \n",
    "from collections import defaultdict"
   ],
   "outputs": [],
   "execution_count": 2
  },
  {
   "cell_type": "code",
   "id": "c3b2a6d7-5b2f-4b8b-a424-36e8be1b4f34",
   "metadata": {
    "ExecuteTime": {
     "end_time": "2025-02-16T20:05:09.236785Z",
     "start_time": "2025-02-16T20:05:09.234902Z"
    }
   },
   "source": "EXPERIMENT_DIR='parsing_experiments/28_09_2024v2/'",
   "outputs": [],
   "execution_count": 3
  },
  {
   "cell_type": "code",
   "id": "c8ddc319-968f-4656-a2e0-88015e1d3d4a",
   "metadata": {
    "ExecuteTime": {
     "end_time": "2025-02-16T20:05:09.420010Z",
     "start_time": "2025-02-16T20:05:09.416855Z"
    }
   },
   "source": [
    "def read_json_file(file_path):\n",
    "    try:\n",
    "        with open(file_path, 'r') as file:\n",
    "            data = json.load(file)\n",
    "            return data\n",
    "    except FileNotFoundError:\n",
    "        print(f\"File not found: {file_path}\")\n",
    "    except json.JSONDecodeError:\n",
    "        print(f\"Error decoding JSON from file: {file_path}\")\n",
    "    except Exception as e:\n",
    "        print(f\"An error occurred: {str(e)}\")"
   ],
   "outputs": [],
   "execution_count": 4
  },
  {
   "metadata": {
    "ExecuteTime": {
     "end_time": "2024-12-29T08:25:52.520988Z",
     "start_time": "2024-12-29T08:25:52.517181Z"
    }
   },
   "cell_type": "code",
   "source": "df = pd.read_csv(\"/Users/Michal/Dokumenty_mac/MasterThesis/master_thesis/parsing_experiments/28_12_2024_gpt-4o/2305.14336v3/manual_extracted_tables/df_2.csv\")",
   "id": "e0a664810e2548c",
   "outputs": [],
   "execution_count": 6
  },
  {
   "metadata": {
    "ExecuteTime": {
     "end_time": "2024-12-29T08:25:53.357107Z",
     "start_time": "2024-12-29T08:25:53.351616Z"
    }
   },
   "cell_type": "code",
   "source": "df",
   "id": "11244d79c7c79c9",
   "outputs": [
    {
     "data": {
      "text/plain": [
       "            Model (GPU hours)     .1  Token-Level F1     .2    .3   EM     .4\n",
       "0      NaN                 NaN     P                R    F1     P     R    F1\n",
       "1  Teacher    code-davinci-002  74.1             71.8  72.3  59.4  56.9  57.6\n",
       "2  Student      LLaMA-7B (50h)  74.1             67.6  69.1  56.8  53.4  54.3\n",
       "3      NaN     Alpaca-7B (50h)  72.7             64.8  67.5  56.1  50.0  52.0\n",
       "4      NaN       T5-11B (380h)  75.8             71.4  73.2  60.3  56.7  58.1"
      ],
      "text/html": [
       "<div>\n",
       "<style scoped>\n",
       "    .dataframe tbody tr th:only-of-type {\n",
       "        vertical-align: middle;\n",
       "    }\n",
       "\n",
       "    .dataframe tbody tr th {\n",
       "        vertical-align: top;\n",
       "    }\n",
       "\n",
       "    .dataframe thead th {\n",
       "        text-align: right;\n",
       "    }\n",
       "</style>\n",
       "<table border=\"1\" class=\"dataframe\">\n",
       "  <thead>\n",
       "    <tr style=\"text-align: right;\">\n",
       "      <th></th>\n",
       "      <th></th>\n",
       "      <th>Model (GPU hours)</th>\n",
       "      <th>.1</th>\n",
       "      <th>Token-Level F1</th>\n",
       "      <th>.2</th>\n",
       "      <th>.3</th>\n",
       "      <th>EM</th>\n",
       "      <th>.4</th>\n",
       "    </tr>\n",
       "  </thead>\n",
       "  <tbody>\n",
       "    <tr>\n",
       "      <th>0</th>\n",
       "      <td>NaN</td>\n",
       "      <td>NaN</td>\n",
       "      <td>P</td>\n",
       "      <td>R</td>\n",
       "      <td>F1</td>\n",
       "      <td>P</td>\n",
       "      <td>R</td>\n",
       "      <td>F1</td>\n",
       "    </tr>\n",
       "    <tr>\n",
       "      <th>1</th>\n",
       "      <td>Teacher</td>\n",
       "      <td>code-davinci-002</td>\n",
       "      <td>74.1</td>\n",
       "      <td>71.8</td>\n",
       "      <td>72.3</td>\n",
       "      <td>59.4</td>\n",
       "      <td>56.9</td>\n",
       "      <td>57.6</td>\n",
       "    </tr>\n",
       "    <tr>\n",
       "      <th>2</th>\n",
       "      <td>Student</td>\n",
       "      <td>LLaMA-7B (50h)</td>\n",
       "      <td>74.1</td>\n",
       "      <td>67.6</td>\n",
       "      <td>69.1</td>\n",
       "      <td>56.8</td>\n",
       "      <td>53.4</td>\n",
       "      <td>54.3</td>\n",
       "    </tr>\n",
       "    <tr>\n",
       "      <th>3</th>\n",
       "      <td>NaN</td>\n",
       "      <td>Alpaca-7B (50h)</td>\n",
       "      <td>72.7</td>\n",
       "      <td>64.8</td>\n",
       "      <td>67.5</td>\n",
       "      <td>56.1</td>\n",
       "      <td>50.0</td>\n",
       "      <td>52.0</td>\n",
       "    </tr>\n",
       "    <tr>\n",
       "      <th>4</th>\n",
       "      <td>NaN</td>\n",
       "      <td>T5-11B (380h)</td>\n",
       "      <td>75.8</td>\n",
       "      <td>71.4</td>\n",
       "      <td>73.2</td>\n",
       "      <td>60.3</td>\n",
       "      <td>56.7</td>\n",
       "      <td>58.1</td>\n",
       "    </tr>\n",
       "  </tbody>\n",
       "</table>\n",
       "</div>"
      ]
     },
     "execution_count": 7,
     "metadata": {},
     "output_type": "execute_result"
    }
   ],
   "execution_count": 7
  },
  {
   "cell_type": "code",
   "id": "8e7f7862-b8c8-475a-bd94-a43ff0095b1b",
   "metadata": {
    "ExecuteTime": {
     "end_time": "2024-09-29T10:11:13.123561Z",
     "start_time": "2024-09-29T10:11:12.893040Z"
    }
   },
   "source": [
    "paper_output_dict = {}\n",
    "for paper_dir in Path(EXPERIMENT_DIR).iterdir():\n",
    "    if paper_dir.is_dir():\n",
    "        result_dict = {}\n",
    "        dfs = []\n",
    "        for result_file in paper_dir.iterdir():\n",
    "            if result_file.suffix == '.csv':\n",
    "                dfs.append(pd.read_csv(result_file))\n",
    "            elif result_file.suffix == '.json':\n",
    "                extracted_text = read_json_file(result_file)\n",
    "                result_dict.update({\"text\": extracted_text})\n",
    "        result_dict.update({\"dfs\":dfs})\n",
    "        paper_output_dict.update({paper_dir.name:result_dict})\n",
    "                           "
   ],
   "outputs": [],
   "execution_count": 15
  },
  {
   "cell_type": "code",
   "id": "bded28ed-f370-4ceb-92fb-8c399855834e",
   "metadata": {
    "ExecuteTime": {
     "end_time": "2024-09-29T10:11:15.500247Z",
     "start_time": "2024-09-29T10:11:15.495081Z"
    }
   },
   "source": "len(paper_output_dict)",
   "outputs": [
    {
     "data": {
      "text/plain": [
       "30"
      ]
     },
     "execution_count": 16,
     "metadata": {},
     "output_type": "execute_result"
    }
   ],
   "execution_count": 16
  },
  {
   "cell_type": "code",
   "id": "51559c33-a0b9-44cf-9d32-daec60bb7513",
   "metadata": {
    "ExecuteTime": {
     "end_time": "2024-09-29T10:11:15.787233Z",
     "start_time": "2024-09-29T10:11:15.784623Z"
    }
   },
   "source": [
    "# Papers names\n",
    "paper_output_dict.keys()"
   ],
   "outputs": [
    {
     "data": {
      "text/plain": [
       "dict_keys(['2409.03710v1', '2409.03225v1', '2409.03735v1', '2402.07745v1', '2409.03171v1', '2409.01854v1', '2409.02864v1', '2409.03757v1', '2408.16284v1', '2409.03438v1', '2409.03659v1', '2305.14336v3', '2409.03291v1', '2409.03618v1', 'applsci-13-10918', '2406.04383v2', '2409.03516v1', '2409.02813v1', '2409.01195v1', '2409.03542v1', '2409.03669v1', '2409.01685v1', '2409.02130v1', '2409.03245v1', '2409.03755v1', '2409.03715v1', '2001.01469v1', '2408.11381v1', '2409.02141v1', '2409.03745v1'])"
      ]
     },
     "execution_count": 17,
     "metadata": {},
     "output_type": "execute_result"
    }
   ],
   "execution_count": 17
  },
  {
   "metadata": {},
   "cell_type": "markdown",
   "source": "## Sections text extraction analysis",
   "id": "e68adf71a95fe97d"
  },
  {
   "cell_type": "code",
   "id": "256e0a92-a87b-4455-b791-428bd7b6747a",
   "metadata": {
    "ExecuteTime": {
     "end_time": "2024-09-29T10:11:18.299283Z",
     "start_time": "2024-09-29T10:11:18.294905Z"
    }
   },
   "source": [
    "paper_empty_section_dict = defaultdict(list)\n",
    "for paper in paper_output_dict.keys():\n",
    "    sections_text = paper_output_dict[paper]['text']\n",
    "    for section in sections_text.keys():\n",
    "        if len(sections_text[section]) == 0:\n",
    "            paper_empty_section_dict[paper].append(section)"
   ],
   "outputs": [],
   "execution_count": 18
  },
  {
   "metadata": {
    "ExecuteTime": {
     "end_time": "2024-09-29T10:17:09.461274Z",
     "start_time": "2024-09-29T10:17:09.445765Z"
    }
   },
   "cell_type": "code",
   "source": "len(paper_empty_section_dict) # Due to wrong parsing of tables of content in .md file",
   "id": "8aa5636d5eff5e60",
   "outputs": [
    {
     "data": {
      "text/plain": [
       "1"
      ]
     },
     "execution_count": 21,
     "metadata": {},
     "output_type": "execute_result"
    }
   ],
   "execution_count": 21
  },
  {
   "metadata": {
    "ExecuteTime": {
     "end_time": "2024-09-29T10:11:23.515189Z",
     "start_time": "2024-09-29T10:11:23.512021Z"
    }
   },
   "cell_type": "code",
   "source": [
    "for paper in paper_empty_section_dict.keys():\n",
    "    print(f\"Paper with empty sections: {paper}\")\n",
    "    for section in paper_empty_section_dict[paper]:\n",
    "        print(section)\n",
    "    print(\"#\"*100)"
   ],
   "id": "bb4d37f70d8c5a13",
   "outputs": [
    {
     "name": "stdout",
     "output_type": "stream",
     "text": [
      "Paper with empty sections: 2409.02864v1\n",
      "2.1.2 Rag Assessment (Ragas) Evaluation Metrics\n",
      "####################################################################################################\n"
     ]
    }
   ],
   "execution_count": 20
  },
  {
   "metadata": {},
   "cell_type": "markdown",
   "source": "### Verifying end and the beginning of extracted sections given the example of 2001.01469v1 paper",
   "id": "6e70a11cb4b01a4b"
  },
  {
   "cell_type": "code",
   "execution_count": 34,
   "id": "c06bf86d-42dc-44ca-ae81-a957fd234c72",
   "metadata": {},
   "outputs": [
    {
     "name": "stdout",
     "output_type": "stream",
     "text": [
      "Table Ii.\n",
      "1801\n",
      "## Table Ii.\n",
      "\n",
      "Similarly, in Experiment 2, we used the modified Marmot data-set where, the words in e\n",
      " made with richer semantic knowledge, and additional branches for learning row based segmentation.\n",
      "\n",
      "\n",
      "####################################################################################################\n",
      "Iv. Table Row Extraction\n",
      "1664\n",
      "## Iv. Table Row Extraction\n",
      "\n",
      "After processing the documents using TableNet, masks for table and colu\n",
      "mpletely filled and there are no line demarcations, each line (level) can be seen as a unique row.\n",
      "\n",
      "\n",
      "####################################################################################################\n",
      "I. Introduction\n",
      "4379\n",
      "## I. Introduction\n",
      "\n",
      "With the proliferation of mobile devices equipped with cameras, an increasing nu\n",
      "riment details and results. Finally, the conclusions and future work are presented in Section VII.\n",
      "\n",
      "\n",
      "####################################################################################################\n",
      "Vii. Conclusion\n",
      "5202\n",
      "## Vii. Conclusion\n",
      "\n",
      "This paper presents TableNet, a novel deep learning model trained on dual tasks \n",
      "rnational Journal on Document Analysis and* Recognition (IJDAR), vol. 14, no. 1, pp. 101–109, 2011.\n",
      "\n",
      "####################################################################################################\n",
      "Iii. Tablenet: Deep Model For Table And Column Detection\n",
      "6223\n",
      "## Iii. Tablenet: Deep Model For Table And Column Detection\n",
      "\n",
      "In all prior deep learning based approa\n",
      "tputs of the two branches of computational graphs yield the mask for the table and column regions.\n",
      "\n",
      "\n",
      "####################################################################################################\n",
      "V. Dataset Preparation\n",
      "1177\n",
      "## V. Dataset Preparation\n",
      "\n",
      "Deep-learning based approaches are data-intensive and require large volum\n",
      "fied dataset is publicly released with the name Marmot Extended for table structure recognition 1.\n",
      "\n",
      "\n",
      "####################################################################################################\n",
      "A. Providing Semantic Information\n",
      "1175\n",
      "## A. Providing Semantic Information\n",
      "\n",
      "Intuitively, any table has common data types in the same row/c\n",
      "s of the detected table and column masks. An example of the generated output is shown in Figure 2.\n",
      "\n",
      "\n",
      "####################################################################################################\n",
      "Ii. Related Work\n",
      "2620\n",
      "## Ii. Related Work\n",
      "\n",
      "There is significant prior work on identifying and extracting the tabular data \n",
      " HTML tables. Singh et al. [14] use object detection techniques for Document Layout understanding.\n",
      "\n",
      "\n",
      "####################################################################################################\n",
      "Vi. Experiments And Results\n",
      "3922\n",
      "## Vi. Experiments And Results\n",
      "\n",
      "This section describes the different experiments performed on the IC\n",
      "en as the threshold probability for pixel-wise prediction. The results are compiled in Table I and\n",
      "\n",
      "\n",
      "####################################################################################################\n",
      "B. Training Data Preparation For Tablenet\n",
      "2707\n",
      "## B. Training Data Preparation For Tablenet\n",
      "\n",
      "To provide the basic semantic type information to the \n",
      "pixel-wise added to the original image. These modified document images are then used for training.\n",
      "\n",
      "\n",
      "####################################################################################################\n"
     ]
    }
   ],
   "source": [
    "for section in paper_output_dict['2001.01469v1']['text'].keys():\n",
    "    print(section)\n",
    "    section_text = paper_output_dict['2001.01469v1']['text'][section]\n",
    "    print(len(section_text))\n",
    "    print(section_text[:100])\n",
    "    print(section_text[-100:])\n",
    "    print(\"#\"*100)"
   ]
  },
  {
   "cell_type": "code",
   "execution_count": 35,
   "id": "8bad0af1-f96a-488d-9e60-96a64a41e9b8",
   "metadata": {},
   "outputs": [],
   "source": [
    "dfs = paper_output_dict['2001.01469v1']['dfs']"
   ]
  },
  {
   "cell_type": "code",
   "execution_count": 40,
   "id": "2912b0c2-c719-4f85-9537-59d06afab699",
   "metadata": {},
   "outputs": [
    {
     "data": {
      "text/html": [
       "<div>\n",
       "<style scoped>\n",
       "    .dataframe tbody tr th:only-of-type {\n",
       "        vertical-align: middle;\n",
       "    }\n",
       "\n",
       "    .dataframe tbody tr th {\n",
       "        vertical-align: top;\n",
       "    }\n",
       "\n",
       "    .dataframe thead th {\n",
       "        text-align: right;\n",
       "    }\n",
       "</style>\n",
       "<table border=\"1\" class=\"dataframe\">\n",
       "  <thead>\n",
       "    <tr style=\"text-align: right;\">\n",
       "      <th></th>\n",
       "      <th>Model</th>\n",
       "      <th>Recall</th>\n",
       "      <th>Precision</th>\n",
       "      <th>F1-Score</th>\n",
       "      <th>The content in</th>\n",
       "      <th>each</th>\n",
       "      <th>cell was</th>\n",
       "      <th>Unnamed: 0</th>\n",
       "      <th>normalized;</th>\n",
       "      <th>white</th>\n",
       "      <th>spaces</th>\n",
       "      <th>Unnamed: 1</th>\n",
       "    </tr>\n",
       "  </thead>\n",
       "  <tbody>\n",
       "    <tr>\n",
       "      <th>0</th>\n",
       "      <td>NaN</td>\n",
       "      <td>NaN</td>\n",
       "      <td>NaN</td>\n",
       "      <td>NaN</td>\n",
       "      <td>were removed,</td>\n",
       "      <td>NaN</td>\n",
       "      <td>special characters</td>\n",
       "      <td>NaN</td>\n",
       "      <td>NaN</td>\n",
       "      <td>were replaced</td>\n",
       "      <td>NaN</td>\n",
       "      <td>with</td>\n",
       "    </tr>\n",
       "    <tr>\n",
       "      <th>1</th>\n",
       "      <td>TableNet + Semantic Features</td>\n",
       "      <td>NaN</td>\n",
       "      <td>NaN</td>\n",
       "      <td>NaN</td>\n",
       "      <td>NaN</td>\n",
       "      <td>NaN</td>\n",
       "      <td>NaN</td>\n",
       "      <td>NaN</td>\n",
       "      <td>NaN</td>\n",
       "      <td>NaN</td>\n",
       "      <td>NaN</td>\n",
       "      <td>NaN</td>\n",
       "    </tr>\n",
       "    <tr>\n",
       "      <th>2</th>\n",
       "      <td>NaN</td>\n",
       "      <td>0.9001</td>\n",
       "      <td>0.9307</td>\n",
       "      <td>0.9151</td>\n",
       "      <td>NaN</td>\n",
       "      <td>NaN</td>\n",
       "      <td>NaN</td>\n",
       "      <td>NaN</td>\n",
       "      <td>NaN</td>\n",
       "      <td>NaN</td>\n",
       "      <td>NaN</td>\n",
       "      <td>NaN</td>\n",
       "    </tr>\n",
       "    <tr>\n",
       "      <th>3</th>\n",
       "      <td>(fine-tuned on ICDAR)</td>\n",
       "      <td>NaN</td>\n",
       "      <td>NaN</td>\n",
       "      <td>NaN</td>\n",
       "      <td>underscores and</td>\n",
       "      <td>NaN</td>\n",
       "      <td>lowercase</td>\n",
       "      <td>letters</td>\n",
       "      <td>NaN</td>\n",
       "      <td>with uppercase.</td>\n",
       "      <td>NaN</td>\n",
       "      <td>This</td>\n",
       "    </tr>\n",
       "    <tr>\n",
       "      <th>4</th>\n",
       "      <td>NaN</td>\n",
       "      <td>NaN</td>\n",
       "      <td>NaN</td>\n",
       "      <td>NaN</td>\n",
       "      <td>1D-tuple can then be compared with the ground ...</td>\n",
       "      <td>NaN</td>\n",
       "      <td>NaN</td>\n",
       "      <td>NaN</td>\n",
       "      <td>NaN</td>\n",
       "      <td>NaN</td>\n",
       "      <td>NaN</td>\n",
       "      <td>NaN</td>\n",
       "    </tr>\n",
       "    <tr>\n",
       "      <th>5</th>\n",
       "      <td>TableNet + Semantic Features</td>\n",
       "      <td>0.8994</td>\n",
       "      <td>0.9255</td>\n",
       "      <td>0.9122</td>\n",
       "      <td>NaN</td>\n",
       "      <td>NaN</td>\n",
       "      <td>NaN</td>\n",
       "      <td>NaN</td>\n",
       "      <td>NaN</td>\n",
       "      <td>NaN</td>\n",
       "      <td>NaN</td>\n",
       "      <td>NaN</td>\n",
       "    </tr>\n",
       "    <tr>\n",
       "      <th>6</th>\n",
       "      <td>NaN</td>\n",
       "      <td>NaN</td>\n",
       "      <td>NaN</td>\n",
       "      <td>NaN</td>\n",
       "      <td>using precision and recall.</td>\n",
       "      <td>NaN</td>\n",
       "      <td>NaN</td>\n",
       "      <td>NaN</td>\n",
       "      <td>NaN</td>\n",
       "      <td>NaN</td>\n",
       "      <td>NaN</td>\n",
       "      <td>NaN</td>\n",
       "    </tr>\n",
       "    <tr>\n",
       "      <th>7</th>\n",
       "      <td>TableNet</td>\n",
       "      <td>0.8987</td>\n",
       "      <td>0.9215</td>\n",
       "      <td>0.9098</td>\n",
       "      <td>NaN</td>\n",
       "      <td>NaN</td>\n",
       "      <td>NaN</td>\n",
       "      <td>NaN</td>\n",
       "      <td>NaN</td>\n",
       "      <td>NaN</td>\n",
       "      <td>NaN</td>\n",
       "      <td>NaN</td>\n",
       "    </tr>\n",
       "    <tr>\n",
       "      <th>8</th>\n",
       "      <td>DeepDeSRT [8]</td>\n",
       "      <td>0.8736</td>\n",
       "      <td>0.9593</td>\n",
       "      <td>0.9144</td>\n",
       "      <td>TableNet requires</td>\n",
       "      <td>both</td>\n",
       "      <td>table</td>\n",
       "      <td>and</td>\n",
       "      <td>structure</td>\n",
       "      <td>annotated</td>\n",
       "      <td>NaN</td>\n",
       "      <td>data</td>\n",
       "    </tr>\n",
       "  </tbody>\n",
       "</table>\n",
       "</div>"
      ],
      "text/plain": [
       "                          Model  Recall  Precision  F1-Score  \\\n",
       "0                           NaN     NaN        NaN       NaN   \n",
       "1  TableNet + Semantic Features     NaN        NaN       NaN   \n",
       "2                           NaN  0.9001     0.9307    0.9151   \n",
       "3         (fine-tuned on ICDAR)     NaN        NaN       NaN   \n",
       "4                           NaN     NaN        NaN       NaN   \n",
       "5  TableNet + Semantic Features  0.8994     0.9255    0.9122   \n",
       "6                           NaN     NaN        NaN       NaN   \n",
       "7                      TableNet  0.8987     0.9215    0.9098   \n",
       "8                 DeepDeSRT [8]  0.8736     0.9593    0.9144   \n",
       "\n",
       "                                      The content in  each  \\\n",
       "0                                      were removed,   NaN   \n",
       "1                                                NaN   NaN   \n",
       "2                                                NaN   NaN   \n",
       "3                                    underscores and   NaN   \n",
       "4  1D-tuple can then be compared with the ground ...   NaN   \n",
       "5                                                NaN   NaN   \n",
       "6                        using precision and recall.   NaN   \n",
       "7                                                NaN   NaN   \n",
       "8                                  TableNet requires  both   \n",
       "\n",
       "             cell was Unnamed: 0 normalized;            white  spaces  \\\n",
       "0  special characters        NaN         NaN    were replaced     NaN   \n",
       "1                 NaN        NaN         NaN              NaN     NaN   \n",
       "2                 NaN        NaN         NaN              NaN     NaN   \n",
       "3           lowercase    letters         NaN  with uppercase.     NaN   \n",
       "4                 NaN        NaN         NaN              NaN     NaN   \n",
       "5                 NaN        NaN         NaN              NaN     NaN   \n",
       "6                 NaN        NaN         NaN              NaN     NaN   \n",
       "7                 NaN        NaN         NaN              NaN     NaN   \n",
       "8               table        and   structure        annotated     NaN   \n",
       "\n",
       "  Unnamed: 1  \n",
       "0       with  \n",
       "1        NaN  \n",
       "2        NaN  \n",
       "3       This  \n",
       "4        NaN  \n",
       "5        NaN  \n",
       "6        NaN  \n",
       "7        NaN  \n",
       "8       data  "
      ]
     },
     "execution_count": 40,
     "metadata": {},
     "output_type": "execute_result"
    }
   ],
   "source": [
    "dfs[0]"
   ]
  },
  {
   "metadata": {},
   "cell_type": "markdown",
   "source": "## Checking lama approach for extracting tables ",
   "id": "3305d591fdfc4dfb"
  },
  {
   "cell_type": "code",
   "id": "47eb6b0b-aa90-4455-add0-ad0ae4af8f68",
   "metadata": {
    "ExecuteTime": {
     "end_time": "2024-09-29T18:08:52.889344Z",
     "start_time": "2024-09-29T18:08:52.885784Z"
    }
   },
   "source": "LAMA_EXPERIMENT_DIR='parsing_experiments/29_09_2024_llama_parse'",
   "outputs": [],
   "execution_count": 23
  },
  {
   "metadata": {
    "ExecuteTime": {
     "end_time": "2024-09-29T18:10:29.178409Z",
     "start_time": "2024-09-29T18:10:29.149778Z"
    }
   },
   "cell_type": "code",
   "source": [
    "dfs_dict = {}\n",
    "for paper_output_dir in Path(LAMA_EXPERIMENT_DIR).iterdir():\n",
    "    dfs_dict[paper_output_dir.name] = []\n",
    "    if paper_output_dir.is_dir():\n",
    "        for result_file in paper_output_dir.iterdir():\n",
    "            if result_file.suffix == '.csv':\n",
    "                dfs_dict[paper_output_dir.name].append(pd.read_csv(result_file))\n"
   ],
   "id": "1a42601f4028f9c3",
   "outputs": [],
   "execution_count": 27
  },
  {
   "metadata": {
    "ExecuteTime": {
     "end_time": "2024-09-29T18:10:30.299145Z",
     "start_time": "2024-09-29T18:10:30.296291Z"
    }
   },
   "cell_type": "code",
   "source": "dfs_dict.keys()",
   "id": "c17b934b06d4cc3d",
   "outputs": [
    {
     "data": {
      "text/plain": [
       "dict_keys(['.DS_Store', '2305.14336v3', 'applsci-13-10918', '2406.04383v2', '2001.01469v1'])"
      ]
     },
     "execution_count": 28,
     "metadata": {},
     "output_type": "execute_result"
    }
   ],
   "execution_count": 28
  },
  {
   "metadata": {
    "ExecuteTime": {
     "end_time": "2024-09-29T18:11:14.194843Z",
     "start_time": "2024-09-29T18:11:14.192347Z"
    }
   },
   "cell_type": "code",
   "source": "dfs = dfs_dict['2305.14336v3']",
   "id": "efe8831d166c3a69",
   "outputs": [],
   "execution_count": 29
  },
  {
   "metadata": {
    "ExecuteTime": {
     "end_time": "2024-09-29T18:18:50.138390Z",
     "start_time": "2024-09-29T18:18:50.133799Z"
    }
   },
   "cell_type": "code",
   "source": "dfs[10]",
   "id": "8139e93dbea13d37",
   "outputs": [
    {
     "data": {
      "text/plain": [
       "                     ML (ours) Chemistry (ours) DISCOMAT (2022) SWDE (2011)\n",
       "0     Textual format     LATEX              XML             CSV        HTML\n",
       "1       # cell types         4                6               2           8\n",
       "2      # attr. types        11                4               4          32\n",
       "3    # papers (web.)        25               16           2,536          80\n",
       "4   # tables (pages)       122               26           5,883       1,600\n",
       "5    # anno. records     3,792            1,498          58,481       1,600\n",
       "6  # records / table      31.1             57.6             9.9           1"
      ],
      "text/html": [
       "<div>\n",
       "<style scoped>\n",
       "    .dataframe tbody tr th:only-of-type {\n",
       "        vertical-align: middle;\n",
       "    }\n",
       "\n",
       "    .dataframe tbody tr th {\n",
       "        vertical-align: top;\n",
       "    }\n",
       "\n",
       "    .dataframe thead th {\n",
       "        text-align: right;\n",
       "    }\n",
       "</style>\n",
       "<table border=\"1\" class=\"dataframe\">\n",
       "  <thead>\n",
       "    <tr style=\"text-align: right;\">\n",
       "      <th></th>\n",
       "      <th></th>\n",
       "      <th>ML (ours)</th>\n",
       "      <th>Chemistry (ours)</th>\n",
       "      <th>DISCOMAT (2022)</th>\n",
       "      <th>SWDE (2011)</th>\n",
       "    </tr>\n",
       "  </thead>\n",
       "  <tbody>\n",
       "    <tr>\n",
       "      <th>0</th>\n",
       "      <td>Textual format</td>\n",
       "      <td>LATEX</td>\n",
       "      <td>XML</td>\n",
       "      <td>CSV</td>\n",
       "      <td>HTML</td>\n",
       "    </tr>\n",
       "    <tr>\n",
       "      <th>1</th>\n",
       "      <td># cell types</td>\n",
       "      <td>4</td>\n",
       "      <td>6</td>\n",
       "      <td>2</td>\n",
       "      <td>8</td>\n",
       "    </tr>\n",
       "    <tr>\n",
       "      <th>2</th>\n",
       "      <td># attr. types</td>\n",
       "      <td>11</td>\n",
       "      <td>4</td>\n",
       "      <td>4</td>\n",
       "      <td>32</td>\n",
       "    </tr>\n",
       "    <tr>\n",
       "      <th>3</th>\n",
       "      <td># papers (web.)</td>\n",
       "      <td>25</td>\n",
       "      <td>16</td>\n",
       "      <td>2,536</td>\n",
       "      <td>80</td>\n",
       "    </tr>\n",
       "    <tr>\n",
       "      <th>4</th>\n",
       "      <td># tables (pages)</td>\n",
       "      <td>122</td>\n",
       "      <td>26</td>\n",
       "      <td>5,883</td>\n",
       "      <td>1,600</td>\n",
       "    </tr>\n",
       "    <tr>\n",
       "      <th>5</th>\n",
       "      <td># anno. records</td>\n",
       "      <td>3,792</td>\n",
       "      <td>1,498</td>\n",
       "      <td>58,481</td>\n",
       "      <td>1,600</td>\n",
       "    </tr>\n",
       "    <tr>\n",
       "      <th>6</th>\n",
       "      <td># records / table</td>\n",
       "      <td>31.1</td>\n",
       "      <td>57.6</td>\n",
       "      <td>9.9</td>\n",
       "      <td>1</td>\n",
       "    </tr>\n",
       "  </tbody>\n",
       "</table>\n",
       "</div>"
      ]
     },
     "execution_count": 44,
     "metadata": {},
     "output_type": "execute_result"
    }
   ],
   "execution_count": 44
  },
  {
   "metadata": {},
   "cell_type": "markdown",
   "source": "## Comparing results of various approaches for extraction of complex tables ",
   "id": "1ee8d735f5392401"
  },
  {
   "metadata": {},
   "cell_type": "markdown",
   "source": "#### 1. Tabula",
   "id": "6294e287303adf97"
  },
  {
   "metadata": {
    "ExecuteTime": {
     "end_time": "2025-02-08T10:01:27.500167Z",
     "start_time": "2025-02-08T10:01:27.483950Z"
    }
   },
   "cell_type": "code",
   "source": [
    "tabula_table_path = '/Users/Michal/Dokumenty_mac/MasterThesis/master_thesis/various_tables_extraction_approaches_summary_dir/1603.01354/tabula_extracted_files/df_5.csv'\n",
    "tabula_df = pd.read_csv(tabula_table_path)"
   ],
   "id": "7aec251b274b1d3d",
   "outputs": [],
   "execution_count": 5
  },
  {
   "metadata": {
    "ExecuteTime": {
     "end_time": "2025-02-08T10:01:31.063240Z",
     "start_time": "2025-02-08T10:01:31.056633Z"
    }
   },
   "cell_type": "code",
   "source": "tabula_df",
   "id": "dc092c9970c41110",
   "outputs": [
    {
     "data": {
      "text/plain": [
       "     Unnamed: 0          POS Unnamed: 1 Unnamed: 2          NER Unnamed: 3  \\\n",
       "0           NaN     Dev Test        NaN        Dev          NaN       Test   \n",
       "1         Model    Acc. Acc.      Prec.     Recall     F1 Prec.     Recall   \n",
       "2          BRNN  96.56 96.76      92.04      89.13  90.56 87.05      83.88   \n",
       "3         BLSTM  96.88 96.93      92.31      90.85  91.57 87.77      86.23   \n",
       "4     BLSTM-CNN  97.34 97.33      92.52      93.64  93.07 88.53      90.21   \n",
       "5  BRNN-CNN-CRF  97.46 97.55      94.85      94.63  94.74 91.35      91.06   \n",
       "\n",
       "  Unnamed: 4  \n",
       "0        NaN  \n",
       "1         F1  \n",
       "2      85.44  \n",
       "3      87.00  \n",
       "4      89.36  \n",
       "5      91.21  "
      ],
      "text/html": [
       "<div>\n",
       "<style scoped>\n",
       "    .dataframe tbody tr th:only-of-type {\n",
       "        vertical-align: middle;\n",
       "    }\n",
       "\n",
       "    .dataframe tbody tr th {\n",
       "        vertical-align: top;\n",
       "    }\n",
       "\n",
       "    .dataframe thead th {\n",
       "        text-align: right;\n",
       "    }\n",
       "</style>\n",
       "<table border=\"1\" class=\"dataframe\">\n",
       "  <thead>\n",
       "    <tr style=\"text-align: right;\">\n",
       "      <th></th>\n",
       "      <th>Unnamed: 0</th>\n",
       "      <th>POS</th>\n",
       "      <th>Unnamed: 1</th>\n",
       "      <th>Unnamed: 2</th>\n",
       "      <th>NER</th>\n",
       "      <th>Unnamed: 3</th>\n",
       "      <th>Unnamed: 4</th>\n",
       "    </tr>\n",
       "  </thead>\n",
       "  <tbody>\n",
       "    <tr>\n",
       "      <th>0</th>\n",
       "      <td>NaN</td>\n",
       "      <td>Dev Test</td>\n",
       "      <td>NaN</td>\n",
       "      <td>Dev</td>\n",
       "      <td>NaN</td>\n",
       "      <td>Test</td>\n",
       "      <td>NaN</td>\n",
       "    </tr>\n",
       "    <tr>\n",
       "      <th>1</th>\n",
       "      <td>Model</td>\n",
       "      <td>Acc. Acc.</td>\n",
       "      <td>Prec.</td>\n",
       "      <td>Recall</td>\n",
       "      <td>F1 Prec.</td>\n",
       "      <td>Recall</td>\n",
       "      <td>F1</td>\n",
       "    </tr>\n",
       "    <tr>\n",
       "      <th>2</th>\n",
       "      <td>BRNN</td>\n",
       "      <td>96.56 96.76</td>\n",
       "      <td>92.04</td>\n",
       "      <td>89.13</td>\n",
       "      <td>90.56 87.05</td>\n",
       "      <td>83.88</td>\n",
       "      <td>85.44</td>\n",
       "    </tr>\n",
       "    <tr>\n",
       "      <th>3</th>\n",
       "      <td>BLSTM</td>\n",
       "      <td>96.88 96.93</td>\n",
       "      <td>92.31</td>\n",
       "      <td>90.85</td>\n",
       "      <td>91.57 87.77</td>\n",
       "      <td>86.23</td>\n",
       "      <td>87.00</td>\n",
       "    </tr>\n",
       "    <tr>\n",
       "      <th>4</th>\n",
       "      <td>BLSTM-CNN</td>\n",
       "      <td>97.34 97.33</td>\n",
       "      <td>92.52</td>\n",
       "      <td>93.64</td>\n",
       "      <td>93.07 88.53</td>\n",
       "      <td>90.21</td>\n",
       "      <td>89.36</td>\n",
       "    </tr>\n",
       "    <tr>\n",
       "      <th>5</th>\n",
       "      <td>BRNN-CNN-CRF</td>\n",
       "      <td>97.46 97.55</td>\n",
       "      <td>94.85</td>\n",
       "      <td>94.63</td>\n",
       "      <td>94.74 91.35</td>\n",
       "      <td>91.06</td>\n",
       "      <td>91.21</td>\n",
       "    </tr>\n",
       "  </tbody>\n",
       "</table>\n",
       "</div>"
      ]
     },
     "execution_count": 6,
     "metadata": {},
     "output_type": "execute_result"
    }
   ],
   "execution_count": 6
  },
  {
   "metadata": {},
   "cell_type": "markdown",
   "source": "#### 2. Marker + Regex ",
   "id": "6378ea887ce1ff71"
  },
  {
   "metadata": {
    "ExecuteTime": {
     "end_time": "2025-02-08T10:02:40.622199Z",
     "start_time": "2025-02-08T10:02:40.618793Z"
    }
   },
   "cell_type": "code",
   "source": [
    "marker_table_path = '/Users/Michal/Dokumenty_mac/MasterThesis/master_thesis/various_tables_extraction_approaches_summary_dir/1603.01354/manual_extracted_tables/df_2.csv'\n",
    "marker_df = pd.read_csv(marker_table_path)"
   ],
   "id": "7686061cbcffcd1d",
   "outputs": [],
   "execution_count": 7
  },
  {
   "metadata": {
    "ExecuteTime": {
     "end_time": "2025-02-08T10:02:43.330841Z",
     "start_time": "2025-02-08T10:02:43.325537Z"
    }
   },
   "cell_type": "code",
   "source": "marker_df",
   "id": "570fe6d64c92f668",
   "outputs": [
    {
     "data": {
      "text/plain": [
       "                  POS      .1     .2      .3     .4   NER       .5     .6\n",
       "0           NaN    Dev   Test    NaN     Dev    NaN    NaN    Test    NaN\n",
       "1         Model   Acc.   Acc.  Prec.  Recall     F1  Prec.  Recall     F1\n",
       "2          BRNN  96.56  96.76  92.04   89.13  90.56  87.05   83.88  85.44\n",
       "3         BLSTM  96.88  96.93  92.31   90.85  91.57  87.77   86.23  87.00\n",
       "4     BLSTM-CNN  97.34  97.33  92.52   93.64  93.07  88.53   90.21  89.36\n",
       "5  BRNN-CNN-CRF  97.46  97.55  94.85   94.63  94.74  91.35   91.06  91.21"
      ],
      "text/html": [
       "<div>\n",
       "<style scoped>\n",
       "    .dataframe tbody tr th:only-of-type {\n",
       "        vertical-align: middle;\n",
       "    }\n",
       "\n",
       "    .dataframe tbody tr th {\n",
       "        vertical-align: top;\n",
       "    }\n",
       "\n",
       "    .dataframe thead th {\n",
       "        text-align: right;\n",
       "    }\n",
       "</style>\n",
       "<table border=\"1\" class=\"dataframe\">\n",
       "  <thead>\n",
       "    <tr style=\"text-align: right;\">\n",
       "      <th></th>\n",
       "      <th></th>\n",
       "      <th>POS</th>\n",
       "      <th>.1</th>\n",
       "      <th>.2</th>\n",
       "      <th>.3</th>\n",
       "      <th>.4</th>\n",
       "      <th>NER</th>\n",
       "      <th>.5</th>\n",
       "      <th>.6</th>\n",
       "    </tr>\n",
       "  </thead>\n",
       "  <tbody>\n",
       "    <tr>\n",
       "      <th>0</th>\n",
       "      <td>NaN</td>\n",
       "      <td>Dev</td>\n",
       "      <td>Test</td>\n",
       "      <td>NaN</td>\n",
       "      <td>Dev</td>\n",
       "      <td>NaN</td>\n",
       "      <td>NaN</td>\n",
       "      <td>Test</td>\n",
       "      <td>NaN</td>\n",
       "    </tr>\n",
       "    <tr>\n",
       "      <th>1</th>\n",
       "      <td>Model</td>\n",
       "      <td>Acc.</td>\n",
       "      <td>Acc.</td>\n",
       "      <td>Prec.</td>\n",
       "      <td>Recall</td>\n",
       "      <td>F1</td>\n",
       "      <td>Prec.</td>\n",
       "      <td>Recall</td>\n",
       "      <td>F1</td>\n",
       "    </tr>\n",
       "    <tr>\n",
       "      <th>2</th>\n",
       "      <td>BRNN</td>\n",
       "      <td>96.56</td>\n",
       "      <td>96.76</td>\n",
       "      <td>92.04</td>\n",
       "      <td>89.13</td>\n",
       "      <td>90.56</td>\n",
       "      <td>87.05</td>\n",
       "      <td>83.88</td>\n",
       "      <td>85.44</td>\n",
       "    </tr>\n",
       "    <tr>\n",
       "      <th>3</th>\n",
       "      <td>BLSTM</td>\n",
       "      <td>96.88</td>\n",
       "      <td>96.93</td>\n",
       "      <td>92.31</td>\n",
       "      <td>90.85</td>\n",
       "      <td>91.57</td>\n",
       "      <td>87.77</td>\n",
       "      <td>86.23</td>\n",
       "      <td>87.00</td>\n",
       "    </tr>\n",
       "    <tr>\n",
       "      <th>4</th>\n",
       "      <td>BLSTM-CNN</td>\n",
       "      <td>97.34</td>\n",
       "      <td>97.33</td>\n",
       "      <td>92.52</td>\n",
       "      <td>93.64</td>\n",
       "      <td>93.07</td>\n",
       "      <td>88.53</td>\n",
       "      <td>90.21</td>\n",
       "      <td>89.36</td>\n",
       "    </tr>\n",
       "    <tr>\n",
       "      <th>5</th>\n",
       "      <td>BRNN-CNN-CRF</td>\n",
       "      <td>97.46</td>\n",
       "      <td>97.55</td>\n",
       "      <td>94.85</td>\n",
       "      <td>94.63</td>\n",
       "      <td>94.74</td>\n",
       "      <td>91.35</td>\n",
       "      <td>91.06</td>\n",
       "      <td>91.21</td>\n",
       "    </tr>\n",
       "  </tbody>\n",
       "</table>\n",
       "</div>"
      ]
     },
     "execution_count": 8,
     "metadata": {},
     "output_type": "execute_result"
    }
   ],
   "execution_count": 8
  },
  {
   "metadata": {},
   "cell_type": "markdown",
   "source": "#### 3. LLM section based approach (GPT-4o) ",
   "id": "3849426f6a58ed56"
  },
  {
   "metadata": {
    "ExecuteTime": {
     "end_time": "2025-02-08T10:04:11.434107Z",
     "start_time": "2025-02-08T10:04:11.430115Z"
    }
   },
   "cell_type": "code",
   "source": [
    "section_based_llm_approach_table_path = '/Users/Michal/Dokumenty_mac/MasterThesis/master_thesis/various_tables_extraction_approaches_summary_dir/1603.01354/llm_extracted_tables/4.2 Main Resultslen_23100.csv'\n",
    "section_based_df = pd.read_csv(section_based_llm_approach_table_path)"
   ],
   "id": "b63d1bf941549379",
   "outputs": [],
   "execution_count": 9
  },
  {
   "metadata": {
    "ExecuteTime": {
     "end_time": "2025-02-08T10:04:14.161846Z",
     "start_time": "2025-02-08T10:04:14.156460Z"
    }
   },
   "cell_type": "code",
   "source": "section_based_df",
   "id": "4eb665185787adfc",
   "outputs": [
    {
     "data": {
      "text/plain": [
       "          Model  POS Dev Acc.  POS Test Acc.  POS Prec.  POS Recall  POS F1  \\\n",
       "0          BRNN         96.56          96.76      92.04       89.13   90.56   \n",
       "1         BLSTM         96.88          96.93      92.31       90.85   91.57   \n",
       "2     BLSTM-CNN         97.34          97.33      92.52       93.64   93.07   \n",
       "3  BRNN-CNN-CRF         97.46          97.55      94.85       94.63   94.74   \n",
       "\n",
       "   NER Dev Prec.  NER Dev Recall  NER Dev F1  \n",
       "0          87.05           83.88       85.44  \n",
       "1          87.77           86.23       87.00  \n",
       "2          88.53           90.21       89.36  \n",
       "3          91.35           91.06       91.21  "
      ],
      "text/html": [
       "<div>\n",
       "<style scoped>\n",
       "    .dataframe tbody tr th:only-of-type {\n",
       "        vertical-align: middle;\n",
       "    }\n",
       "\n",
       "    .dataframe tbody tr th {\n",
       "        vertical-align: top;\n",
       "    }\n",
       "\n",
       "    .dataframe thead th {\n",
       "        text-align: right;\n",
       "    }\n",
       "</style>\n",
       "<table border=\"1\" class=\"dataframe\">\n",
       "  <thead>\n",
       "    <tr style=\"text-align: right;\">\n",
       "      <th></th>\n",
       "      <th>Model</th>\n",
       "      <th>POS Dev Acc.</th>\n",
       "      <th>POS Test Acc.</th>\n",
       "      <th>POS Prec.</th>\n",
       "      <th>POS Recall</th>\n",
       "      <th>POS F1</th>\n",
       "      <th>NER Dev Prec.</th>\n",
       "      <th>NER Dev Recall</th>\n",
       "      <th>NER Dev F1</th>\n",
       "    </tr>\n",
       "  </thead>\n",
       "  <tbody>\n",
       "    <tr>\n",
       "      <th>0</th>\n",
       "      <td>BRNN</td>\n",
       "      <td>96.56</td>\n",
       "      <td>96.76</td>\n",
       "      <td>92.04</td>\n",
       "      <td>89.13</td>\n",
       "      <td>90.56</td>\n",
       "      <td>87.05</td>\n",
       "      <td>83.88</td>\n",
       "      <td>85.44</td>\n",
       "    </tr>\n",
       "    <tr>\n",
       "      <th>1</th>\n",
       "      <td>BLSTM</td>\n",
       "      <td>96.88</td>\n",
       "      <td>96.93</td>\n",
       "      <td>92.31</td>\n",
       "      <td>90.85</td>\n",
       "      <td>91.57</td>\n",
       "      <td>87.77</td>\n",
       "      <td>86.23</td>\n",
       "      <td>87.00</td>\n",
       "    </tr>\n",
       "    <tr>\n",
       "      <th>2</th>\n",
       "      <td>BLSTM-CNN</td>\n",
       "      <td>97.34</td>\n",
       "      <td>97.33</td>\n",
       "      <td>92.52</td>\n",
       "      <td>93.64</td>\n",
       "      <td>93.07</td>\n",
       "      <td>88.53</td>\n",
       "      <td>90.21</td>\n",
       "      <td>89.36</td>\n",
       "    </tr>\n",
       "    <tr>\n",
       "      <th>3</th>\n",
       "      <td>BRNN-CNN-CRF</td>\n",
       "      <td>97.46</td>\n",
       "      <td>97.55</td>\n",
       "      <td>94.85</td>\n",
       "      <td>94.63</td>\n",
       "      <td>94.74</td>\n",
       "      <td>91.35</td>\n",
       "      <td>91.06</td>\n",
       "      <td>91.21</td>\n",
       "    </tr>\n",
       "  </tbody>\n",
       "</table>\n",
       "</div>"
      ]
     },
     "execution_count": 10,
     "metadata": {},
     "output_type": "execute_result"
    }
   ],
   "execution_count": 10
  },
  {
   "metadata": {},
   "cell_type": "markdown",
   "source": "#### 4. Entire file LLM approach (GPT-4o)",
   "id": "49610e83f6095ff"
  },
  {
   "metadata": {
    "ExecuteTime": {
     "end_time": "2025-02-08T10:19:13.019968Z",
     "start_time": "2025-02-08T10:19:13.014166Z"
    }
   },
   "cell_type": "code",
   "source": [
    "from io import StringIO\n",
    "\n",
    "# json_file_path = '/Users/Michal/Dokumenty_mac/MasterThesis/master_thesis/entire_pdf_approach_results-redefined-prompt-csv/1603.01354/1603.01354_4.json'\n",
    "# # from src.utils import read_json\n",
    "# with open(json_file_path, \"r\") as json_file:\n",
    "#         data= json.load(json_file)\n",
    "json_file_path = '/Users/Michal/Dokumenty_mac/MasterThesis/master_thesis/various_tables_extraction_approaches_summary_dir/1603.01354/llm_extracted_tables/4.2 Main Resultslen_2310.json'\n",
    "with open(json_file_path, \"r\") as json_file:\n",
    "        data= json.load(json_file)\n",
    "entire_df = pd.read_csv(StringIO(data['Table 3']), sep=\",\")"
   ],
   "id": "59f301c8c5ca8997",
   "outputs": [],
   "execution_count": 21
  },
  {
   "metadata": {
    "ExecuteTime": {
     "end_time": "2025-02-08T10:19:14.093721Z",
     "start_time": "2025-02-08T10:19:14.086043Z"
    }
   },
   "cell_type": "code",
   "source": "entire_df",
   "id": "7daafca506ec43e2",
   "outputs": [
    {
     "data": {
      "text/plain": [
       "          Model  POS Dev Acc.  POS Test Acc.  POS Prec.  POS Recall  POS F1  \\\n",
       "0          BRNN         96.56          96.76      92.04       89.13   90.56   \n",
       "1         BLSTM         96.88          96.93      92.31       90.85   91.57   \n",
       "2     BLSTM-CNN         97.34          97.33      92.52       93.64   93.07   \n",
       "3  BRNN-CNN-CRF         97.46          97.55      94.85       94.63   94.74   \n",
       "\n",
       "   NER Dev Prec.  NER Dev Recall  NER Dev F1  \n",
       "0          87.05           83.88       85.44  \n",
       "1          87.77           86.23       87.00  \n",
       "2          88.53           90.21       89.36  \n",
       "3          91.35           91.06       91.21  "
      ],
      "text/html": [
       "<div>\n",
       "<style scoped>\n",
       "    .dataframe tbody tr th:only-of-type {\n",
       "        vertical-align: middle;\n",
       "    }\n",
       "\n",
       "    .dataframe tbody tr th {\n",
       "        vertical-align: top;\n",
       "    }\n",
       "\n",
       "    .dataframe thead th {\n",
       "        text-align: right;\n",
       "    }\n",
       "</style>\n",
       "<table border=\"1\" class=\"dataframe\">\n",
       "  <thead>\n",
       "    <tr style=\"text-align: right;\">\n",
       "      <th></th>\n",
       "      <th>Model</th>\n",
       "      <th>POS Dev Acc.</th>\n",
       "      <th>POS Test Acc.</th>\n",
       "      <th>POS Prec.</th>\n",
       "      <th>POS Recall</th>\n",
       "      <th>POS F1</th>\n",
       "      <th>NER Dev Prec.</th>\n",
       "      <th>NER Dev Recall</th>\n",
       "      <th>NER Dev F1</th>\n",
       "    </tr>\n",
       "  </thead>\n",
       "  <tbody>\n",
       "    <tr>\n",
       "      <th>0</th>\n",
       "      <td>BRNN</td>\n",
       "      <td>96.56</td>\n",
       "      <td>96.76</td>\n",
       "      <td>92.04</td>\n",
       "      <td>89.13</td>\n",
       "      <td>90.56</td>\n",
       "      <td>87.05</td>\n",
       "      <td>83.88</td>\n",
       "      <td>85.44</td>\n",
       "    </tr>\n",
       "    <tr>\n",
       "      <th>1</th>\n",
       "      <td>BLSTM</td>\n",
       "      <td>96.88</td>\n",
       "      <td>96.93</td>\n",
       "      <td>92.31</td>\n",
       "      <td>90.85</td>\n",
       "      <td>91.57</td>\n",
       "      <td>87.77</td>\n",
       "      <td>86.23</td>\n",
       "      <td>87.00</td>\n",
       "    </tr>\n",
       "    <tr>\n",
       "      <th>2</th>\n",
       "      <td>BLSTM-CNN</td>\n",
       "      <td>97.34</td>\n",
       "      <td>97.33</td>\n",
       "      <td>92.52</td>\n",
       "      <td>93.64</td>\n",
       "      <td>93.07</td>\n",
       "      <td>88.53</td>\n",
       "      <td>90.21</td>\n",
       "      <td>89.36</td>\n",
       "    </tr>\n",
       "    <tr>\n",
       "      <th>3</th>\n",
       "      <td>BRNN-CNN-CRF</td>\n",
       "      <td>97.46</td>\n",
       "      <td>97.55</td>\n",
       "      <td>94.85</td>\n",
       "      <td>94.63</td>\n",
       "      <td>94.74</td>\n",
       "      <td>91.35</td>\n",
       "      <td>91.06</td>\n",
       "      <td>91.21</td>\n",
       "    </tr>\n",
       "  </tbody>\n",
       "</table>\n",
       "</div>"
      ]
     },
     "execution_count": 22,
     "metadata": {},
     "output_type": "execute_result"
    }
   ],
   "execution_count": 22
  },
  {
   "metadata": {},
   "cell_type": "markdown",
   "source": "#### 5. Docling",
   "id": "2a51908d7d5da1b6"
  },
  {
   "metadata": {
    "ExecuteTime": {
     "end_time": "2025-02-08T09:37:46.427068Z",
     "start_time": "2025-02-08T09:37:46.422992Z"
    }
   },
   "cell_type": "code",
   "source": "docling_df = pd.read_csv('/Users/Michal/Dokumenty_mac/MasterThesis/docling_tryout/results/1603.01354/2.csv')",
   "id": "832d8c3f8678a22b",
   "outputs": [],
   "execution_count": 3
  },
  {
   "metadata": {
    "ExecuteTime": {
     "end_time": "2025-02-08T09:37:56.808795Z",
     "start_time": "2025-02-08T09:37:56.796764Z"
    }
   },
   "cell_type": "code",
   "source": "docling_df",
   "id": "230cfca3970b16d0",
   "outputs": [
    {
     "data": {
      "text/plain": [
       "   Unnamed: 0         Model  POS.Dev.Acc.  POS.Test.Acc.  NER.Dev.Prec.  \\\n",
       "0           0          BRNN         96.56          96.76          92.04   \n",
       "1           1         BLSTM         96.88          96.93          92.31   \n",
       "2           2     BLSTM-CNN         97.34          97.33          92.52   \n",
       "3           3  BRNN-CNN-CRF         97.46          97.55          94.85   \n",
       "\n",
       "   NER.Dev.Recall  NER.Dev.F1  NER.Test.Prec.  NER.Test.Recall  NER.Test.F1  \n",
       "0           89.13       90.56           87.05            83.88        85.44  \n",
       "1           90.85       91.57           87.77            86.23        87.00  \n",
       "2           93.64       93.07           88.53            90.21        89.36  \n",
       "3           94.63       94.74           91.35            91.06        91.21  "
      ],
      "text/html": [
       "<div>\n",
       "<style scoped>\n",
       "    .dataframe tbody tr th:only-of-type {\n",
       "        vertical-align: middle;\n",
       "    }\n",
       "\n",
       "    .dataframe tbody tr th {\n",
       "        vertical-align: top;\n",
       "    }\n",
       "\n",
       "    .dataframe thead th {\n",
       "        text-align: right;\n",
       "    }\n",
       "</style>\n",
       "<table border=\"1\" class=\"dataframe\">\n",
       "  <thead>\n",
       "    <tr style=\"text-align: right;\">\n",
       "      <th></th>\n",
       "      <th>Unnamed: 0</th>\n",
       "      <th>Model</th>\n",
       "      <th>POS.Dev.Acc.</th>\n",
       "      <th>POS.Test.Acc.</th>\n",
       "      <th>NER.Dev.Prec.</th>\n",
       "      <th>NER.Dev.Recall</th>\n",
       "      <th>NER.Dev.F1</th>\n",
       "      <th>NER.Test.Prec.</th>\n",
       "      <th>NER.Test.Recall</th>\n",
       "      <th>NER.Test.F1</th>\n",
       "    </tr>\n",
       "  </thead>\n",
       "  <tbody>\n",
       "    <tr>\n",
       "      <th>0</th>\n",
       "      <td>0</td>\n",
       "      <td>BRNN</td>\n",
       "      <td>96.56</td>\n",
       "      <td>96.76</td>\n",
       "      <td>92.04</td>\n",
       "      <td>89.13</td>\n",
       "      <td>90.56</td>\n",
       "      <td>87.05</td>\n",
       "      <td>83.88</td>\n",
       "      <td>85.44</td>\n",
       "    </tr>\n",
       "    <tr>\n",
       "      <th>1</th>\n",
       "      <td>1</td>\n",
       "      <td>BLSTM</td>\n",
       "      <td>96.88</td>\n",
       "      <td>96.93</td>\n",
       "      <td>92.31</td>\n",
       "      <td>90.85</td>\n",
       "      <td>91.57</td>\n",
       "      <td>87.77</td>\n",
       "      <td>86.23</td>\n",
       "      <td>87.00</td>\n",
       "    </tr>\n",
       "    <tr>\n",
       "      <th>2</th>\n",
       "      <td>2</td>\n",
       "      <td>BLSTM-CNN</td>\n",
       "      <td>97.34</td>\n",
       "      <td>97.33</td>\n",
       "      <td>92.52</td>\n",
       "      <td>93.64</td>\n",
       "      <td>93.07</td>\n",
       "      <td>88.53</td>\n",
       "      <td>90.21</td>\n",
       "      <td>89.36</td>\n",
       "    </tr>\n",
       "    <tr>\n",
       "      <th>3</th>\n",
       "      <td>3</td>\n",
       "      <td>BRNN-CNN-CRF</td>\n",
       "      <td>97.46</td>\n",
       "      <td>97.55</td>\n",
       "      <td>94.85</td>\n",
       "      <td>94.63</td>\n",
       "      <td>94.74</td>\n",
       "      <td>91.35</td>\n",
       "      <td>91.06</td>\n",
       "      <td>91.21</td>\n",
       "    </tr>\n",
       "  </tbody>\n",
       "</table>\n",
       "</div>"
      ]
     },
     "execution_count": 4,
     "metadata": {},
     "output_type": "execute_result"
    }
   ],
   "execution_count": 4
  },
  {
   "metadata": {},
   "cell_type": "markdown",
   "source": "### 6. Unstructured approach",
   "id": "dc8056b4bc21cec0"
  },
  {
   "metadata": {
    "ExecuteTime": {
     "end_time": "2025-02-16T20:05:15.101254Z",
     "start_time": "2025-02-16T20:05:14.231381Z"
    }
   },
   "cell_type": "code",
   "source": [
    "unstructured_json_file = read_json_file('/Users/Michal/Dokumenty_mac/MasterThesis/master_thesis/tables_with_captions_dir_unstructured/1603.01354_tables_with_captions.json')\n",
    "html_tables = unstructured_json_file['table_html']\n",
    "tables = []\n",
    "for hml_table in html_tables:\n",
    "    tables.append(pd.read_html(hml_table))"
   ],
   "id": "c767d55d8e59afc9",
   "outputs": [],
   "execution_count": 5
  },
  {
   "metadata": {
    "ExecuteTime": {
     "end_time": "2025-02-16T20:06:27.757709Z",
     "start_time": "2025-02-16T20:06:27.754694Z"
    }
   },
   "cell_type": "code",
   "source": "df = tables[2][0]",
   "id": "4ce448e61bdb4b7c",
   "outputs": [],
   "execution_count": 14
  },
  {
   "metadata": {
    "ExecuteTime": {
     "end_time": "2025-02-16T20:06:29.495258Z",
     "start_time": "2025-02-16T20:06:29.482549Z"
    }
   },
   "cell_type": "code",
   "source": "df",
   "id": "5e350e85d1ae3c42",
   "outputs": [
    {
     "data": {
      "text/plain": [
       "          Model                POS               NER                      \\\n",
       "          Model Unnamed: 1_level_1      Dev     Test     Dev               \n",
       "          Model Unnamed: 1_level_2     Acc.     Acc. | Prec. Recall   F1   \n",
       "0          BRNN              96.56    96.76  | 92.04   89.13  90.56    '   \n",
       "1         BLSTM              96.88    96.93  | 92.31   90.85  91.57    ,   \n",
       "2     BLSTM-CNN              97.34  9733.00   | 9252   93.64  93.07    |   \n",
       "3  BRNN-CNN-CRF            | 97.46    97.55  | 94.85   94.63  94.74  NaN   \n",
       "\n",
       "                            Unnamed: 10_level_0 Unnamed: 11_level_0  \n",
       "     | Test                              | Test              | Test  \n",
       "          :    Prec. Recall                  F1 Unnamed: 11_level_2  \n",
       "0     87.05    83.88  85.44                 NaN                 NaN  \n",
       "1     87.77  8623.00  87.00                 NaN                 NaN  \n",
       "2     88.53  9021.00  89.36                 NaN                 NaN  \n",
       "3  19135.00    91.06  91.21                 NaN                 NaN  "
      ],
      "text/html": [
       "<div>\n",
       "<style scoped>\n",
       "    .dataframe tbody tr th:only-of-type {\n",
       "        vertical-align: middle;\n",
       "    }\n",
       "\n",
       "    .dataframe tbody tr th {\n",
       "        vertical-align: top;\n",
       "    }\n",
       "\n",
       "    .dataframe thead tr th {\n",
       "        text-align: left;\n",
       "    }\n",
       "</style>\n",
       "<table border=\"1\" class=\"dataframe\">\n",
       "  <thead>\n",
       "    <tr>\n",
       "      <th></th>\n",
       "      <th>Model</th>\n",
       "      <th colspan=\"2\" halign=\"left\">POS</th>\n",
       "      <th colspan=\"7\" halign=\"left\">NER</th>\n",
       "      <th>Unnamed: 10_level_0</th>\n",
       "      <th>Unnamed: 11_level_0</th>\n",
       "    </tr>\n",
       "    <tr>\n",
       "      <th></th>\n",
       "      <th>Model</th>\n",
       "      <th>Unnamed: 1_level_1</th>\n",
       "      <th>Dev</th>\n",
       "      <th>Test</th>\n",
       "      <th colspan=\"3\" halign=\"left\">Dev</th>\n",
       "      <th colspan=\"3\" halign=\"left\">| Test</th>\n",
       "      <th>| Test</th>\n",
       "      <th>| Test</th>\n",
       "    </tr>\n",
       "    <tr>\n",
       "      <th></th>\n",
       "      <th>Model</th>\n",
       "      <th>Unnamed: 1_level_2</th>\n",
       "      <th>Acc.</th>\n",
       "      <th>Acc.</th>\n",
       "      <th>| Prec.</th>\n",
       "      <th>Recall</th>\n",
       "      <th>F1</th>\n",
       "      <th>:</th>\n",
       "      <th>Prec.</th>\n",
       "      <th>Recall</th>\n",
       "      <th>F1</th>\n",
       "      <th>Unnamed: 11_level_2</th>\n",
       "    </tr>\n",
       "  </thead>\n",
       "  <tbody>\n",
       "    <tr>\n",
       "      <th>0</th>\n",
       "      <td>BRNN</td>\n",
       "      <td>96.56</td>\n",
       "      <td>96.76</td>\n",
       "      <td>| 92.04</td>\n",
       "      <td>89.13</td>\n",
       "      <td>90.56</td>\n",
       "      <td>'</td>\n",
       "      <td>87.05</td>\n",
       "      <td>83.88</td>\n",
       "      <td>85.44</td>\n",
       "      <td>NaN</td>\n",
       "      <td>NaN</td>\n",
       "    </tr>\n",
       "    <tr>\n",
       "      <th>1</th>\n",
       "      <td>BLSTM</td>\n",
       "      <td>96.88</td>\n",
       "      <td>96.93</td>\n",
       "      <td>| 92.31</td>\n",
       "      <td>90.85</td>\n",
       "      <td>91.57</td>\n",
       "      <td>,</td>\n",
       "      <td>87.77</td>\n",
       "      <td>8623.00</td>\n",
       "      <td>87.00</td>\n",
       "      <td>NaN</td>\n",
       "      <td>NaN</td>\n",
       "    </tr>\n",
       "    <tr>\n",
       "      <th>2</th>\n",
       "      <td>BLSTM-CNN</td>\n",
       "      <td>97.34</td>\n",
       "      <td>9733.00</td>\n",
       "      <td>| 9252</td>\n",
       "      <td>93.64</td>\n",
       "      <td>93.07</td>\n",
       "      <td>|</td>\n",
       "      <td>88.53</td>\n",
       "      <td>9021.00</td>\n",
       "      <td>89.36</td>\n",
       "      <td>NaN</td>\n",
       "      <td>NaN</td>\n",
       "    </tr>\n",
       "    <tr>\n",
       "      <th>3</th>\n",
       "      <td>BRNN-CNN-CRF</td>\n",
       "      <td>| 97.46</td>\n",
       "      <td>97.55</td>\n",
       "      <td>| 94.85</td>\n",
       "      <td>94.63</td>\n",
       "      <td>94.74</td>\n",
       "      <td>NaN</td>\n",
       "      <td>19135.00</td>\n",
       "      <td>91.06</td>\n",
       "      <td>91.21</td>\n",
       "      <td>NaN</td>\n",
       "      <td>NaN</td>\n",
       "    </tr>\n",
       "  </tbody>\n",
       "</table>\n",
       "</div>"
      ]
     },
     "execution_count": 15,
     "metadata": {},
     "output_type": "execute_result"
    }
   ],
   "execution_count": 15
  },
  {
   "metadata": {},
   "cell_type": "code",
   "outputs": [],
   "execution_count": null,
   "source": "",
   "id": "3dac00af60f34fc0"
  }
 ],
 "metadata": {
  "kernelspec": {
   "display_name": "Python 3.9 (tensorflow)",
   "language": "python",
   "name": "tensorflow"
  },
  "language_info": {
   "codemirror_mode": {
    "name": "ipython",
    "version": 3
   },
   "file_extension": ".py",
   "mimetype": "text/x-python",
   "name": "python",
   "nbconvert_exporter": "python",
   "pygments_lexer": "ipython3",
   "version": "3.9.13"
  }
 },
 "nbformat": 4,
 "nbformat_minor": 5
}
